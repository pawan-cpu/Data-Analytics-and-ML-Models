{
  "metadata": {
    "kernelspec": {
      "display_name": "Python 3",
      "language": "python",
      "name": "python3"
    },
    "language_info": {
      "name": "python",
      "version": "3.6.4",
      "mimetype": "text/x-python",
      "codemirror_mode": {
        "name": "ipython",
        "version": 3
      },
      "pygments_lexer": "ipython3",
      "nbconvert_exporter": "python",
      "file_extension": ".py"
    },
    "kaggle": {
      "accelerator": "none",
      "dataSources": [
        {
          "sourceId": 3136,
          "databundleVersionId": 26502,
          "sourceType": "competition"
        },
        {
          "sourceId": 5297,
          "sourceType": "datasetVersion",
          "datasetId": 3225
        }
      ],
      "dockerImageVersionId": 24140,
      "isInternetEnabled": false,
      "language": "python",
      "sourceType": "notebook",
      "isGpuEnabled": false
    },
    "colab": {
      "provenance": [],
      "include_colab_link": true
    }
  },
  "nbformat_minor": 0,
  "nbformat": 4,
  "cells": [
    {
      "cell_type": "markdown",
      "metadata": {
        "id": "view-in-github",
        "colab_type": "text"
      },
      "source": [
        "<a href=\"https://colab.research.google.com/github/pawan-cpu/Data-Analytics-and-ML-Models/blob/main/Exploratory_data_Analysis(Centering_%26_Scaling).ipynb\" target=\"_parent\"><img src=\"https://colab.research.google.com/assets/colab-badge.svg\" alt=\"Open In Colab\"/></a>"
      ]
    },
    {
      "source": [
        "\n",
        "# RUN THIS CELL IN ORDER TO IMPORT YOUR KAGGLE DATA SOURCES\n",
        "# TO THE CORRECT LOCATION (/kaggle/input) IN YOUR NOTEBOOK,\n",
        "\n",
        "import os\n",
        "import sys\n",
        "from tempfile import NamedTemporaryFile\n",
        "from urllib.request import urlopen\n",
        "from urllib.parse import unquote, urlparse\n",
        "from urllib.error import HTTPError\n",
        "from zipfile import ZipFile\n",
        "import tarfile\n",
        "import shutil\n",
        "\n",
        "CHUNK_SIZE = 40960\n",
        "DATA_SOURCE_MAPPING = 'titanic:https%3A%2F%2Fstorage.googleapis.com%2Fkaggle-competitions-data%2Fkaggle-v2%2F3136%2F26502%2Fbundle%2Farchive.zip%3FX-Goog-Algorithm%3DGOOG4-RSA-SHA256%26X-Goog-Credential%3Dgcp-kaggle-com%2540kaggle-161607.iam.gserviceaccount.com%252F20240711%252Fauto%252Fstorage%252Fgoog4_request%26X-Goog-Date%3D20240711T135023Z%26X-Goog-Expires%3D259200%26X-Goog-SignedHeaders%3Dhost%26X-Goog-Signature%3D13508312f6e328ebce247c5c7051655b7adb5598261c4cd4a4e5d20b0a9ee96e0facfea6a2be418348e246887aef27acc1d6801f600997e668b1e79902521945259c7cb4570eb11cc7be83333a750324ca259c4f27711b5fabb5a061fb026eaf61ae71b86144b4adc1f8947c7b6bfb6f7111348387cfae38c441fc4b18a6768e8f88661eb988f4a6b8b6344a44c68774abaaea3fa06b29cf6f2728729ce9b4bc6c36ac06592d6847f9707b00d614039017cc869e048ff06925b25502dd6aec4b6c7099f8eec55ac0da0cb451a2ecd28a08f9f5a4d65b990c80b00a24820b650f2ca284c7bba9959e14d0c9b200073f80299e98c72a28a4cd47d9ff8b84472c7d,mtcars:https%3A%2F%2Fstorage.googleapis.com%2Fkaggle-data-sets%2F3225%2F5297%2Fbundle%2Farchive.zip%3FX-Goog-Algorithm%3DGOOG4-RSA-SHA256%26X-Goog-Credential%3Dgcp-kaggle-com%2540kaggle-161607.iam.gserviceaccount.com%252F20240711%252Fauto%252Fstorage%252Fgoog4_request%26X-Goog-Date%3D20240711T135023Z%26X-Goog-Expires%3D259200%26X-Goog-SignedHeaders%3Dhost%26X-Goog-Signature%3D798aff3f821775ed71a3398e0e9c5f79ced04f9ad1ed26ba8a1aee2ba0fac508c43d9d11da4359644528c89d3e0eee00109e6e914f3a640b544bfb8062d92899276bb1921bcf4d6d4b41e25b7339ad99701ceed6beab8b73a02cb181edfcb8686e8bf506d43651f3d4a473750997f1684b88f7a704dc28af27fc8c32274f0576c29a0ef3341ada0def5682f689cd1626eedeef545327177c8208f1a2bea18ee8df87fb2916ed360c318dd882f50d3e6eb91458a7519b288345d2430aad11704d437db62b034098714660c1f0d6de488dc02d59ca23baa631842a75dc1da52a99201898705c8cab262a558d564024e567f537a968978ab66df82dc57e6fba32fb'\n",
        "\n",
        "KAGGLE_INPUT_PATH='/kaggle/input'\n",
        "KAGGLE_WORKING_PATH='/kaggle/working'\n",
        "KAGGLE_SYMLINK='kaggle'\n",
        "\n",
        "!umount /kaggle/input/ 2> /dev/null\n",
        "shutil.rmtree('/kaggle/input', ignore_errors=True)\n",
        "os.makedirs(KAGGLE_INPUT_PATH, 0o777, exist_ok=True)\n",
        "os.makedirs(KAGGLE_WORKING_PATH, 0o777, exist_ok=True)\n",
        "\n",
        "try:\n",
        "  os.symlink(KAGGLE_INPUT_PATH, os.path.join(\"..\", 'input'), target_is_directory=True)\n",
        "except FileExistsError:\n",
        "  pass\n",
        "try:\n",
        "  os.symlink(KAGGLE_WORKING_PATH, os.path.join(\"..\", 'working'), target_is_directory=True)\n",
        "except FileExistsError:\n",
        "  pass\n",
        "\n",
        "for data_source_mapping in DATA_SOURCE_MAPPING.split(','):\n",
        "    directory, download_url_encoded = data_source_mapping.split(':')\n",
        "    download_url = unquote(download_url_encoded)\n",
        "    filename = urlparse(download_url).path\n",
        "    destination_path = os.path.join(KAGGLE_INPUT_PATH, directory)\n",
        "    try:\n",
        "        with urlopen(download_url) as fileres, NamedTemporaryFile() as tfile:\n",
        "            total_length = fileres.headers['content-length']\n",
        "            print(f'Downloading {directory}, {total_length} bytes compressed')\n",
        "            dl = 0\n",
        "            data = fileres.read(CHUNK_SIZE)\n",
        "            while len(data) > 0:\n",
        "                dl += len(data)\n",
        "                tfile.write(data)\n",
        "                done = int(50 * dl / int(total_length))\n",
        "                sys.stdout.write(f\"\\r[{'=' * done}{' ' * (50-done)}] {dl} bytes downloaded\")\n",
        "                sys.stdout.flush()\n",
        "                data = fileres.read(CHUNK_SIZE)\n",
        "            if filename.endswith('.zip'):\n",
        "              with ZipFile(tfile) as zfile:\n",
        "                zfile.extractall(destination_path)\n",
        "            else:\n",
        "              with tarfile.open(tfile.name) as tarfile:\n",
        "                tarfile.extractall(destination_path)\n",
        "            print(f'\\nDownloaded and uncompressed: {directory}')\n",
        "    except HTTPError as e:\n",
        "        print(f'Failed to load (likely expired) {download_url} to path {destination_path}')\n",
        "        continue\n",
        "    except OSError as e:\n",
        "        print(f'Failed to load {download_url} to path {destination_path}')\n",
        "        continue\n",
        "\n",
        "print('Data source import complete.')\n"
      ],
      "metadata": {
        "id": "MnPsHhPODyvh",
        "colab": {
          "base_uri": "https://localhost:8080/"
        },
        "outputId": "24a3ed8b-652f-4e8b-98f8-49203b6099c7"
      },
      "cell_type": "code",
      "outputs": [
        {
          "output_type": "stream",
          "name": "stdout",
          "text": [
            "Downloading titanic, 34877 bytes compressed\n",
            "[==================================================] 34877 bytes downloaded\n",
            "Downloaded and uncompressed: titanic\n",
            "Downloading mtcars, 999 bytes compressed\n",
            "[==================================================] 999 bytes downloaded\n",
            "Downloaded and uncompressed: mtcars\n",
            "Data source import complete.\n"
          ]
        }
      ],
      "execution_count": 1
    },
    {
      "cell_type": "markdown",
      "source": [
        "# Exploring and  Preparing Numeric Data\n",
        "[back to index](https://www.kaggle.com/hamelg/python-for-data-analysis-index)"
      ],
      "metadata": {
        "_uuid": "8f2839f25d086af736a60e9eeb907d3b93b6e0e5",
        "_cell_guid": "b1076dfc-b9ad-4769-8c92-a6c4dae69d19",
        "trusted": true,
        "id": "6FSjre-iDyvm"
      }
    },
    {
      "cell_type": "markdown",
      "source": [
        "Numeric data tends to be better-behaved than text data. There's only so many symbols that appear in numbers and they have well-defined values. Despite its relative cleanliness, there are variety of preprocessing tasks you should consider before using numeric data. In this lesson, we'll learn some common operations used to prepare numeric data for use in analysis and predictive models."
      ],
      "metadata": {
        "_cell_guid": "79c7e3d0-c299-4dcb-8224-4455121ee9b0",
        "_uuid": "d629ff2d2480ee46fbb7e2d37f6b5fab8052498a",
        "id": "4JJzCirfDyvq"
      }
    },
    {
      "cell_type": "markdown",
      "source": [
        "## Centering and Scaling"
      ],
      "metadata": {
        "id": "bRnAu4e9Dyvr"
      }
    },
    {
      "cell_type": "markdown",
      "source": [
        "Numeric variables are often on different scales and cover different ranges, so they can't be easily compared. What's more, variables with large values can dominate those with smaller values when using certain modeling techniques. Centering and scaling is a common preprocessing task that puts numeric variables on a common scale so no single variable will dominate the others.\n",
        "\n",
        "The simplest way to center data is to subtract the mean value from each data point. Subtracting the mean centers the data around zero and sets the new mean to zero. Let's try zero-centering the mtcars dataset, a small set of car-related data."
      ],
      "metadata": {
        "id": "yUQHLE3MDyvr"
      }
    },
    {
      "cell_type": "code",
      "source": [
        "%matplotlib inline\n",
        "\n",
        "\n",
        "import numpy as np\n",
        "import pandas as pd"
      ],
      "metadata": {
        "trusted": true,
        "id": "y-s6-CmdDyvr"
      },
      "execution_count": 2,
      "outputs": []
    },
    {
      "cell_type": "code",
      "source": [
        "mtcars = pd.read_csv(\"../input/mtcars/mtcars.csv\")\n",
        "\n",
        "print (mtcars.head() )\n",
        "\n"
      ],
      "metadata": {
        "trusted": true,
        "id": "wRcAhALRDyvx",
        "colab": {
          "base_uri": "https://localhost:8080/"
        },
        "outputId": "ae212b2a-1049-4f98-98e3-0e05f991981f"
      },
      "execution_count": 3,
      "outputs": [
        {
          "output_type": "stream",
          "name": "stdout",
          "text": [
            "               model   mpg  cyl   disp   hp  drat     wt   qsec  vs  am  gear  \\\n",
            "0          Mazda RX4  21.0    6  160.0  110  3.90  2.620  16.46   0   1     4   \n",
            "1      Mazda RX4 Wag  21.0    6  160.0  110  3.90  2.875  17.02   0   1     4   \n",
            "2         Datsun 710  22.8    4  108.0   93  3.85  2.320  18.61   1   1     4   \n",
            "3     Hornet 4 Drive  21.4    6  258.0  110  3.08  3.215  19.44   1   0     3   \n",
            "4  Hornet Sportabout  18.7    8  360.0  175  3.15  3.440  17.02   0   0     3   \n",
            "\n",
            "   carb  \n",
            "0     4  \n",
            "1     4  \n",
            "2     1  \n",
            "3     1  \n",
            "4     2  \n"
          ]
        }
      ]
    },
    {
      "cell_type": "code",
      "source": [
        "mtcars.index = mtcars.model       # Set row index to car model\n",
        "del mtcars[\"model\"]               # Drop car name column\n",
        "\n",
        "colmeans = mtcars.sum()/mtcars.shape[0]  # Get column means\n",
        "\n",
        "colmeans"
      ],
      "metadata": {
        "colab": {
          "base_uri": "https://localhost:8080/"
        },
        "id": "CAVhNijUFmpO",
        "outputId": "2cdc50e2-cfa0-4c26-aeb0-f1fb8ca7e751"
      },
      "execution_count": 4,
      "outputs": [
        {
          "output_type": "execute_result",
          "data": {
            "text/plain": [
              "mpg      20.090625\n",
              "cyl       6.187500\n",
              "disp    230.721875\n",
              "hp      146.687500\n",
              "drat      3.596563\n",
              "wt        3.217250\n",
              "qsec     17.848750\n",
              "vs        0.437500\n",
              "am        0.406250\n",
              "gear      3.687500\n",
              "carb      2.812500\n",
              "dtype: float64"
            ]
          },
          "metadata": {},
          "execution_count": 4
        }
      ]
    },
    {
      "cell_type": "markdown",
      "source": [
        "With the column means in hand, we just need to subtract the column means from each row in an element-wise fashion to zero center the data. Pandas performs math operations involving DataFrames and columns on an element-wise row-by-row basis by default, so we can simply subtract our column means series from the data set to center it:"
      ],
      "metadata": {
        "id": "C5AgmZ0CDyvx"
      }
    },
    {
      "cell_type": "code",
      "source": [
        "centered = mtcars-colmeans\n",
        "\n",
        "centered.describe()"
      ],
      "metadata": {
        "trusted": true,
        "id": "QvDPzlF1Dyvx",
        "colab": {
          "base_uri": "https://localhost:8080/",
          "height": 300
        },
        "outputId": "4a45e984-35f6-4f11-f3fa-9aff9680bb84"
      },
      "execution_count": 5,
      "outputs": [
        {
          "output_type": "execute_result",
          "data": {
            "text/plain": [
              "                mpg        cyl          disp          hp          drat  \\\n",
              "count  3.200000e+01  32.000000  3.200000e+01   32.000000  3.200000e+01   \n",
              "mean  -3.108624e-15   0.000000  2.131628e-14    0.000000 -1.526557e-16   \n",
              "std    6.026948e+00   1.785922  1.239387e+02   68.562868  5.346787e-01   \n",
              "min   -9.690625e+00  -2.187500 -1.596219e+02  -94.687500 -8.365625e-01   \n",
              "25%   -4.665625e+00  -2.187500 -1.098969e+02  -50.187500 -5.165625e-01   \n",
              "50%   -8.906250e-01  -0.187500 -3.442187e+01  -23.687500  9.843750e-02   \n",
              "75%    2.709375e+00   1.812500  9.527813e+01   33.312500  3.234375e-01   \n",
              "max    1.380937e+01   1.812500  2.412781e+02  188.312500  1.333437e+00   \n",
              "\n",
              "                 wt          qsec         vs         am       gear     carb  \n",
              "count  3.200000e+01  3.200000e+01  32.000000  32.000000  32.000000  32.0000  \n",
              "mean  -4.440892e-16 -2.609024e-15   0.000000   0.000000   0.000000   0.0000  \n",
              "std    9.784574e-01  1.786943e+00   0.504016   0.498991   0.737804   1.6152  \n",
              "min   -1.704250e+00 -3.348750e+00  -0.437500  -0.406250  -0.687500  -1.8125  \n",
              "25%   -6.360000e-01 -9.562500e-01  -0.437500  -0.406250  -0.687500  -0.8125  \n",
              "50%    1.077500e-01 -1.387500e-01  -0.437500  -0.406250   0.312500  -0.8125  \n",
              "75%    3.927500e-01  1.051250e+00   0.562500   0.593750   0.312500   1.1875  \n",
              "max    2.206750e+00  5.051250e+00   0.562500   0.593750   1.312500   5.1875  "
            ],
            "text/html": [
              "\n",
              "  <div id=\"df-64192b0d-1417-48f7-af9d-5b20bc9f664d\" class=\"colab-df-container\">\n",
              "    <div>\n",
              "<style scoped>\n",
              "    .dataframe tbody tr th:only-of-type {\n",
              "        vertical-align: middle;\n",
              "    }\n",
              "\n",
              "    .dataframe tbody tr th {\n",
              "        vertical-align: top;\n",
              "    }\n",
              "\n",
              "    .dataframe thead th {\n",
              "        text-align: right;\n",
              "    }\n",
              "</style>\n",
              "<table border=\"1\" class=\"dataframe\">\n",
              "  <thead>\n",
              "    <tr style=\"text-align: right;\">\n",
              "      <th></th>\n",
              "      <th>mpg</th>\n",
              "      <th>cyl</th>\n",
              "      <th>disp</th>\n",
              "      <th>hp</th>\n",
              "      <th>drat</th>\n",
              "      <th>wt</th>\n",
              "      <th>qsec</th>\n",
              "      <th>vs</th>\n",
              "      <th>am</th>\n",
              "      <th>gear</th>\n",
              "      <th>carb</th>\n",
              "    </tr>\n",
              "  </thead>\n",
              "  <tbody>\n",
              "    <tr>\n",
              "      <th>count</th>\n",
              "      <td>3.200000e+01</td>\n",
              "      <td>32.000000</td>\n",
              "      <td>3.200000e+01</td>\n",
              "      <td>32.000000</td>\n",
              "      <td>3.200000e+01</td>\n",
              "      <td>3.200000e+01</td>\n",
              "      <td>3.200000e+01</td>\n",
              "      <td>32.000000</td>\n",
              "      <td>32.000000</td>\n",
              "      <td>32.000000</td>\n",
              "      <td>32.0000</td>\n",
              "    </tr>\n",
              "    <tr>\n",
              "      <th>mean</th>\n",
              "      <td>-3.108624e-15</td>\n",
              "      <td>0.000000</td>\n",
              "      <td>2.131628e-14</td>\n",
              "      <td>0.000000</td>\n",
              "      <td>-1.526557e-16</td>\n",
              "      <td>-4.440892e-16</td>\n",
              "      <td>-2.609024e-15</td>\n",
              "      <td>0.000000</td>\n",
              "      <td>0.000000</td>\n",
              "      <td>0.000000</td>\n",
              "      <td>0.0000</td>\n",
              "    </tr>\n",
              "    <tr>\n",
              "      <th>std</th>\n",
              "      <td>6.026948e+00</td>\n",
              "      <td>1.785922</td>\n",
              "      <td>1.239387e+02</td>\n",
              "      <td>68.562868</td>\n",
              "      <td>5.346787e-01</td>\n",
              "      <td>9.784574e-01</td>\n",
              "      <td>1.786943e+00</td>\n",
              "      <td>0.504016</td>\n",
              "      <td>0.498991</td>\n",
              "      <td>0.737804</td>\n",
              "      <td>1.6152</td>\n",
              "    </tr>\n",
              "    <tr>\n",
              "      <th>min</th>\n",
              "      <td>-9.690625e+00</td>\n",
              "      <td>-2.187500</td>\n",
              "      <td>-1.596219e+02</td>\n",
              "      <td>-94.687500</td>\n",
              "      <td>-8.365625e-01</td>\n",
              "      <td>-1.704250e+00</td>\n",
              "      <td>-3.348750e+00</td>\n",
              "      <td>-0.437500</td>\n",
              "      <td>-0.406250</td>\n",
              "      <td>-0.687500</td>\n",
              "      <td>-1.8125</td>\n",
              "    </tr>\n",
              "    <tr>\n",
              "      <th>25%</th>\n",
              "      <td>-4.665625e+00</td>\n",
              "      <td>-2.187500</td>\n",
              "      <td>-1.098969e+02</td>\n",
              "      <td>-50.187500</td>\n",
              "      <td>-5.165625e-01</td>\n",
              "      <td>-6.360000e-01</td>\n",
              "      <td>-9.562500e-01</td>\n",
              "      <td>-0.437500</td>\n",
              "      <td>-0.406250</td>\n",
              "      <td>-0.687500</td>\n",
              "      <td>-0.8125</td>\n",
              "    </tr>\n",
              "    <tr>\n",
              "      <th>50%</th>\n",
              "      <td>-8.906250e-01</td>\n",
              "      <td>-0.187500</td>\n",
              "      <td>-3.442187e+01</td>\n",
              "      <td>-23.687500</td>\n",
              "      <td>9.843750e-02</td>\n",
              "      <td>1.077500e-01</td>\n",
              "      <td>-1.387500e-01</td>\n",
              "      <td>-0.437500</td>\n",
              "      <td>-0.406250</td>\n",
              "      <td>0.312500</td>\n",
              "      <td>-0.8125</td>\n",
              "    </tr>\n",
              "    <tr>\n",
              "      <th>75%</th>\n",
              "      <td>2.709375e+00</td>\n",
              "      <td>1.812500</td>\n",
              "      <td>9.527813e+01</td>\n",
              "      <td>33.312500</td>\n",
              "      <td>3.234375e-01</td>\n",
              "      <td>3.927500e-01</td>\n",
              "      <td>1.051250e+00</td>\n",
              "      <td>0.562500</td>\n",
              "      <td>0.593750</td>\n",
              "      <td>0.312500</td>\n",
              "      <td>1.1875</td>\n",
              "    </tr>\n",
              "    <tr>\n",
              "      <th>max</th>\n",
              "      <td>1.380937e+01</td>\n",
              "      <td>1.812500</td>\n",
              "      <td>2.412781e+02</td>\n",
              "      <td>188.312500</td>\n",
              "      <td>1.333437e+00</td>\n",
              "      <td>2.206750e+00</td>\n",
              "      <td>5.051250e+00</td>\n",
              "      <td>0.562500</td>\n",
              "      <td>0.593750</td>\n",
              "      <td>1.312500</td>\n",
              "      <td>5.1875</td>\n",
              "    </tr>\n",
              "  </tbody>\n",
              "</table>\n",
              "</div>\n",
              "    <div class=\"colab-df-buttons\">\n",
              "\n",
              "  <div class=\"colab-df-container\">\n",
              "    <button class=\"colab-df-convert\" onclick=\"convertToInteractive('df-64192b0d-1417-48f7-af9d-5b20bc9f664d')\"\n",
              "            title=\"Convert this dataframe to an interactive table.\"\n",
              "            style=\"display:none;\">\n",
              "\n",
              "  <svg xmlns=\"http://www.w3.org/2000/svg\" height=\"24px\" viewBox=\"0 -960 960 960\">\n",
              "    <path d=\"M120-120v-720h720v720H120Zm60-500h600v-160H180v160Zm220 220h160v-160H400v160Zm0 220h160v-160H400v160ZM180-400h160v-160H180v160Zm440 0h160v-160H620v160ZM180-180h160v-160H180v160Zm440 0h160v-160H620v160Z\"/>\n",
              "  </svg>\n",
              "    </button>\n",
              "\n",
              "  <style>\n",
              "    .colab-df-container {\n",
              "      display:flex;\n",
              "      gap: 12px;\n",
              "    }\n",
              "\n",
              "    .colab-df-convert {\n",
              "      background-color: #E8F0FE;\n",
              "      border: none;\n",
              "      border-radius: 50%;\n",
              "      cursor: pointer;\n",
              "      display: none;\n",
              "      fill: #1967D2;\n",
              "      height: 32px;\n",
              "      padding: 0 0 0 0;\n",
              "      width: 32px;\n",
              "    }\n",
              "\n",
              "    .colab-df-convert:hover {\n",
              "      background-color: #E2EBFA;\n",
              "      box-shadow: 0px 1px 2px rgba(60, 64, 67, 0.3), 0px 1px 3px 1px rgba(60, 64, 67, 0.15);\n",
              "      fill: #174EA6;\n",
              "    }\n",
              "\n",
              "    .colab-df-buttons div {\n",
              "      margin-bottom: 4px;\n",
              "    }\n",
              "\n",
              "    [theme=dark] .colab-df-convert {\n",
              "      background-color: #3B4455;\n",
              "      fill: #D2E3FC;\n",
              "    }\n",
              "\n",
              "    [theme=dark] .colab-df-convert:hover {\n",
              "      background-color: #434B5C;\n",
              "      box-shadow: 0px 1px 3px 1px rgba(0, 0, 0, 0.15);\n",
              "      filter: drop-shadow(0px 1px 2px rgba(0, 0, 0, 0.3));\n",
              "      fill: #FFFFFF;\n",
              "    }\n",
              "  </style>\n",
              "\n",
              "    <script>\n",
              "      const buttonEl =\n",
              "        document.querySelector('#df-64192b0d-1417-48f7-af9d-5b20bc9f664d button.colab-df-convert');\n",
              "      buttonEl.style.display =\n",
              "        google.colab.kernel.accessAllowed ? 'block' : 'none';\n",
              "\n",
              "      async function convertToInteractive(key) {\n",
              "        const element = document.querySelector('#df-64192b0d-1417-48f7-af9d-5b20bc9f664d');\n",
              "        const dataTable =\n",
              "          await google.colab.kernel.invokeFunction('convertToInteractive',\n",
              "                                                    [key], {});\n",
              "        if (!dataTable) return;\n",
              "\n",
              "        const docLinkHtml = 'Like what you see? Visit the ' +\n",
              "          '<a target=\"_blank\" href=https://colab.research.google.com/notebooks/data_table.ipynb>data table notebook</a>'\n",
              "          + ' to learn more about interactive tables.';\n",
              "        element.innerHTML = '';\n",
              "        dataTable['output_type'] = 'display_data';\n",
              "        await google.colab.output.renderOutput(dataTable, element);\n",
              "        const docLink = document.createElement('div');\n",
              "        docLink.innerHTML = docLinkHtml;\n",
              "        element.appendChild(docLink);\n",
              "      }\n",
              "    </script>\n",
              "  </div>\n",
              "\n",
              "\n",
              "<div id=\"df-f657d90c-7da2-4a1f-86c6-f6bd2dc619b0\">\n",
              "  <button class=\"colab-df-quickchart\" onclick=\"quickchart('df-f657d90c-7da2-4a1f-86c6-f6bd2dc619b0')\"\n",
              "            title=\"Suggest charts\"\n",
              "            style=\"display:none;\">\n",
              "\n",
              "<svg xmlns=\"http://www.w3.org/2000/svg\" height=\"24px\"viewBox=\"0 0 24 24\"\n",
              "     width=\"24px\">\n",
              "    <g>\n",
              "        <path d=\"M19 3H5c-1.1 0-2 .9-2 2v14c0 1.1.9 2 2 2h14c1.1 0 2-.9 2-2V5c0-1.1-.9-2-2-2zM9 17H7v-7h2v7zm4 0h-2V7h2v10zm4 0h-2v-4h2v4z\"/>\n",
              "    </g>\n",
              "</svg>\n",
              "  </button>\n",
              "\n",
              "<style>\n",
              "  .colab-df-quickchart {\n",
              "      --bg-color: #E8F0FE;\n",
              "      --fill-color: #1967D2;\n",
              "      --hover-bg-color: #E2EBFA;\n",
              "      --hover-fill-color: #174EA6;\n",
              "      --disabled-fill-color: #AAA;\n",
              "      --disabled-bg-color: #DDD;\n",
              "  }\n",
              "\n",
              "  [theme=dark] .colab-df-quickchart {\n",
              "      --bg-color: #3B4455;\n",
              "      --fill-color: #D2E3FC;\n",
              "      --hover-bg-color: #434B5C;\n",
              "      --hover-fill-color: #FFFFFF;\n",
              "      --disabled-bg-color: #3B4455;\n",
              "      --disabled-fill-color: #666;\n",
              "  }\n",
              "\n",
              "  .colab-df-quickchart {\n",
              "    background-color: var(--bg-color);\n",
              "    border: none;\n",
              "    border-radius: 50%;\n",
              "    cursor: pointer;\n",
              "    display: none;\n",
              "    fill: var(--fill-color);\n",
              "    height: 32px;\n",
              "    padding: 0;\n",
              "    width: 32px;\n",
              "  }\n",
              "\n",
              "  .colab-df-quickchart:hover {\n",
              "    background-color: var(--hover-bg-color);\n",
              "    box-shadow: 0 1px 2px rgba(60, 64, 67, 0.3), 0 1px 3px 1px rgba(60, 64, 67, 0.15);\n",
              "    fill: var(--button-hover-fill-color);\n",
              "  }\n",
              "\n",
              "  .colab-df-quickchart-complete:disabled,\n",
              "  .colab-df-quickchart-complete:disabled:hover {\n",
              "    background-color: var(--disabled-bg-color);\n",
              "    fill: var(--disabled-fill-color);\n",
              "    box-shadow: none;\n",
              "  }\n",
              "\n",
              "  .colab-df-spinner {\n",
              "    border: 2px solid var(--fill-color);\n",
              "    border-color: transparent;\n",
              "    border-bottom-color: var(--fill-color);\n",
              "    animation:\n",
              "      spin 1s steps(1) infinite;\n",
              "  }\n",
              "\n",
              "  @keyframes spin {\n",
              "    0% {\n",
              "      border-color: transparent;\n",
              "      border-bottom-color: var(--fill-color);\n",
              "      border-left-color: var(--fill-color);\n",
              "    }\n",
              "    20% {\n",
              "      border-color: transparent;\n",
              "      border-left-color: var(--fill-color);\n",
              "      border-top-color: var(--fill-color);\n",
              "    }\n",
              "    30% {\n",
              "      border-color: transparent;\n",
              "      border-left-color: var(--fill-color);\n",
              "      border-top-color: var(--fill-color);\n",
              "      border-right-color: var(--fill-color);\n",
              "    }\n",
              "    40% {\n",
              "      border-color: transparent;\n",
              "      border-right-color: var(--fill-color);\n",
              "      border-top-color: var(--fill-color);\n",
              "    }\n",
              "    60% {\n",
              "      border-color: transparent;\n",
              "      border-right-color: var(--fill-color);\n",
              "    }\n",
              "    80% {\n",
              "      border-color: transparent;\n",
              "      border-right-color: var(--fill-color);\n",
              "      border-bottom-color: var(--fill-color);\n",
              "    }\n",
              "    90% {\n",
              "      border-color: transparent;\n",
              "      border-bottom-color: var(--fill-color);\n",
              "    }\n",
              "  }\n",
              "</style>\n",
              "\n",
              "  <script>\n",
              "    async function quickchart(key) {\n",
              "      const quickchartButtonEl =\n",
              "        document.querySelector('#' + key + ' button');\n",
              "      quickchartButtonEl.disabled = true;  // To prevent multiple clicks.\n",
              "      quickchartButtonEl.classList.add('colab-df-spinner');\n",
              "      try {\n",
              "        const charts = await google.colab.kernel.invokeFunction(\n",
              "            'suggestCharts', [key], {});\n",
              "      } catch (error) {\n",
              "        console.error('Error during call to suggestCharts:', error);\n",
              "      }\n",
              "      quickchartButtonEl.classList.remove('colab-df-spinner');\n",
              "      quickchartButtonEl.classList.add('colab-df-quickchart-complete');\n",
              "    }\n",
              "    (() => {\n",
              "      let quickchartButtonEl =\n",
              "        document.querySelector('#df-f657d90c-7da2-4a1f-86c6-f6bd2dc619b0 button');\n",
              "      quickchartButtonEl.style.display =\n",
              "        google.colab.kernel.accessAllowed ? 'block' : 'none';\n",
              "    })();\n",
              "  </script>\n",
              "</div>\n",
              "\n",
              "    </div>\n",
              "  </div>\n"
            ],
            "application/vnd.google.colaboratory.intrinsic+json": {
              "type": "dataframe",
              "summary": "{\n  \"name\": \"centered\",\n  \"rows\": 8,\n  \"fields\": [\n    {\n      \"column\": \"mpg\",\n      \"properties\": {\n        \"dtype\": \"number\",\n        \"std\": 12.993313936492653,\n        \"min\": -9.690625000000002,\n        \"max\": 32.0,\n        \"num_unique_values\": 8,\n        \"samples\": [\n          -3.1086244689504383e-15,\n          -0.8906250000000036,\n          32.0\n        ],\n        \"semantic_type\": \"\",\n        \"description\": \"\"\n      }\n    },\n    {\n      \"column\": \"cyl\",\n      \"properties\": {\n        \"dtype\": \"number\",\n        \"std\": 11.392277752884588,\n        \"min\": -2.1875,\n        \"max\": 32.0,\n        \"num_unique_values\": 6,\n        \"samples\": [\n          32.0,\n          0.0,\n          1.8125\n        ],\n        \"semantic_type\": \"\",\n        \"description\": \"\"\n      }\n    },\n    {\n      \"column\": \"disp\",\n      \"properties\": {\n        \"dtype\": \"number\",\n        \"std\": 129.82135788058437,\n        \"min\": -159.621875,\n        \"max\": 241.27812500000002,\n        \"num_unique_values\": 8,\n        \"samples\": [\n          2.1316282072803006e-14,\n          -34.421874999999986,\n          32.0\n        ],\n        \"semantic_type\": \"\",\n        \"description\": \"\"\n      }\n    },\n    {\n      \"column\": \"hp\",\n      \"properties\": {\n        \"dtype\": \"number\",\n        \"std\": 85.68355275272155,\n        \"min\": -94.6875,\n        \"max\": 188.3125,\n        \"num_unique_values\": 8,\n        \"samples\": [\n          0.0,\n          -23.6875,\n          32.0\n        ],\n        \"semantic_type\": \"\",\n        \"description\": \"\"\n      }\n    },\n    {\n      \"column\": \"drat\",\n      \"properties\": {\n        \"dtype\": \"number\",\n        \"std\": 11.285517062818887,\n        \"min\": -0.8365625000000003,\n        \"max\": 32.0,\n        \"num_unique_values\": 8,\n        \"samples\": [\n          -1.5265566588595902e-16,\n          0.09843749999999996,\n          32.0\n        ],\n        \"semantic_type\": \"\",\n        \"description\": \"\"\n      }\n    },\n    {\n      \"column\": \"wt\",\n      \"properties\": {\n        \"dtype\": \"number\",\n        \"std\": 11.303046426943379,\n        \"min\": -1.7042500000000005,\n        \"max\": 32.0,\n        \"num_unique_values\": 8,\n        \"samples\": [\n          -4.440892098500626e-16,\n          0.10774999999999957,\n          32.0\n        ],\n        \"semantic_type\": \"\",\n        \"description\": \"\"\n      }\n    },\n    {\n      \"column\": \"qsec\",\n      \"properties\": {\n        \"dtype\": \"number\",\n        \"std\": 11.394933493933028,\n        \"min\": -3.3487500000000026,\n        \"max\": 32.0,\n        \"num_unique_values\": 8,\n        \"samples\": [\n          -2.609024107869118e-15,\n          -0.1387500000000017,\n          32.0\n        ],\n        \"semantic_type\": \"\",\n        \"description\": \"\"\n      }\n    },\n    {\n      \"column\": \"vs\",\n      \"properties\": {\n        \"dtype\": \"number\",\n        \"std\": 11.306865244938576,\n        \"min\": -0.4375,\n        \"max\": 32.0,\n        \"num_unique_values\": 5,\n        \"samples\": [\n          0.0,\n          0.5625,\n          0.5040161287741853\n        ],\n        \"semantic_type\": \"\",\n        \"description\": \"\"\n      }\n    },\n    {\n      \"column\": \"am\",\n      \"properties\": {\n        \"dtype\": \"number\",\n        \"std\": 11.299051238390327,\n        \"min\": -0.40625,\n        \"max\": 32.0,\n        \"num_unique_values\": 5,\n        \"samples\": [\n          0.0,\n          0.59375,\n          0.49899091723584604\n        ],\n        \"semantic_type\": \"\",\n        \"description\": \"\"\n      }\n    },\n    {\n      \"column\": \"gear\",\n      \"properties\": {\n        \"dtype\": \"number\",\n        \"std\": 11.268120991375174,\n        \"min\": -0.6875,\n        \"max\": 32.0,\n        \"num_unique_values\": 6,\n        \"samples\": [\n          32.0,\n          0.0,\n          1.3125\n        ],\n        \"semantic_type\": \"\",\n        \"description\": \"\"\n      }\n    },\n    {\n      \"column\": \"carb\",\n      \"properties\": {\n        \"dtype\": \"number\",\n        \"std\": 11.291730019044255,\n        \"min\": -1.8125,\n        \"max\": 32.0,\n        \"num_unique_values\": 7,\n        \"samples\": [\n          32.0,\n          0.0,\n          1.1875\n        ],\n        \"semantic_type\": \"\",\n        \"description\": \"\"\n      }\n    }\n  ]\n}"
            }
          },
          "metadata": {},
          "execution_count": 5
        }
      ]
    },
    {
      "cell_type": "markdown",
      "source": [
        "With zero-centered data, negative values are below average and positive values are above average.\n",
        "\n",
        "Now that the data is centered, we'd like to put it all on a common scale. One way to put data on a common scale is to divide by the standard deviation. Standard deviation is a statistic that describes the spread of numeric data. The higher the standard deviation, the further the data points tend to be spread away from the mean value. You can get standard deviations with df.std():"
      ],
      "metadata": {
        "id": "g-I3ZZPbDyvy"
      }
    },
    {
      "cell_type": "code",
      "source": [
        " # Get column standard deviations\n",
        "column_deviations = mtcars.std(axis=0)\n",
        "\n",
        "centered_and_scaled = centered/column_deviations\n",
        "\n",
        "centered_and_scaled.describe()"
      ],
      "metadata": {
        "trusted": true,
        "id": "kljlvQi4Dyvy"
      },
      "execution_count": null,
      "outputs": []
    },
    {
      "cell_type": "markdown",
      "source": [
        "Notice that after dividing by the standard deviation, every variable now has a standard deviation of 1. At this point, all the columns have roughly the same mean and scale of spread about the mean.\n",
        "\n",
        "Manually centering and scaling as we've done is a good exercise, but it is often possible to perform common data preprocessing automatically using functions built into Python libraries. The Python library scikit-learn, a popular package for predictive modeling and data analysis, has preprocessing tools including a scale() function for centering and scaling data:"
      ],
      "metadata": {
        "id": "kAxS_paLDyvy"
      }
    },
    {
      "cell_type": "code",
      "source": [
        "from sklearn import preprocessing"
      ],
      "metadata": {
        "trusted": true,
        "id": "P86KnohHDyvy"
      },
      "execution_count": null,
      "outputs": []
    },
    {
      "cell_type": "code",
      "source": [
        "scaled_data = preprocessing.scale(mtcars)  # Scale the data*\n",
        "\n",
        "scaled_cars = pd.DataFrame(scaled_data,    # Remake the DataFrame\n",
        "                           index=mtcars.index,\n",
        "                           columns=mtcars.columns)\n",
        "\n",
        "scaled_cars.describe()"
      ],
      "metadata": {
        "trusted": true,
        "id": "UdRZb_MGDyvz"
      },
      "execution_count": null,
      "outputs": []
    },
    {
      "cell_type": "markdown",
      "source": [
        "*Note: preprocessing.scale() returns ndarrays so we convert it back into a DataFrame.*\n",
        "\n",
        "Notice that the values are almost the same as those we calculated manually but not exactly the same. These small differences are likely due to rounding and details of the scikit-learn implementation of centering and scaling."
      ],
      "metadata": {
        "id": "udUlb2dADyvz"
      }
    },
    {
      "cell_type": "markdown",
      "source": [
        "## Dealing With Skewed Data"
      ],
      "metadata": {
        "id": "QrmC4FT3Dyvz"
      }
    },
    {
      "cell_type": "markdown",
      "source": [
        "The distribution of data--its overall shape and how it is spread out--can have a significant impact on analysis and modeling. Data that is roughly evenly spread around the mean value--known as normally distributed data--tends to be well-behaved. On the other hand, some data sets exhibit significant skewness or asymmetry. To illustrate, let's generate a few distributions"
      ],
      "metadata": {
        "id": "cB4f6Uj6Dyvz"
      }
    },
    {
      "cell_type": "code",
      "source": [
        "# Generate normal data*\n",
        "normally_distributed = np.random.normal(size=10000)\n",
        "\n",
        "normally_distributed = pd.DataFrame(normally_distributed) # Convert to DF\n",
        "\n",
        "normally_distributed.hist(figsize=(8,8),            # Plot histogram\n",
        "                          bins=30);"
      ],
      "metadata": {
        "trusted": true,
        "id": "kg3A0QMGDyv0"
      },
      "execution_count": null,
      "outputs": []
    },
    {
      "cell_type": "markdown",
      "source": [
        "*Note: We will cover probability distributions and generating random data in a future lesson.*\n",
        "\n",
        "Notice how the normally distributed data looks roughly symmetric with a bell-shaped curve. Now let's generate some skewed data:"
      ],
      "metadata": {
        "id": "9zd0SDkEDyv0"
      }
    },
    {
      "cell_type": "code",
      "source": [
        "skewed = np.random.exponential(scale=2,      # Generate skewed data\n",
        "                               size= 10000)\n",
        "\n",
        "skewed = pd.DataFrame(skewed)                # Convert to DF\n",
        "\n",
        "skewed.hist(figsize=(8,8),                   # Plot histogram\n",
        "            bins=50);"
      ],
      "metadata": {
        "trusted": true,
        "id": "VXx43JkvDyv0"
      },
      "execution_count": null,
      "outputs": []
    },
    {
      "cell_type": "markdown",
      "source": [
        "Data with a long tail that goes off to the right is called positively skewed or right skewed. When you have a skewed distribution like the one above, the extreme values in the long tail can have a disproportionately large influence on whatever test you perform or models you build. Reducing skew may improve your results. Taking the square root of each data point or taking the natural logarithm of each data point are two simple transformations that can reduce skew. Let's see their effects on the skewed data:"
      ],
      "metadata": {
        "id": "2pP0As14Dyv0"
      }
    },
    {
      "cell_type": "code",
      "source": [
        "# Get the square root of data points*\n",
        "sqrt_transformed = skewed.apply(np.sqrt)\n",
        "\n",
        "sqrt_transformed.hist(figsize=(8,8),     # Plot histogram\n",
        "                 bins=50);"
      ],
      "metadata": {
        "trusted": true,
        "id": "dB3jJWJ_Dyv1"
      },
      "execution_count": null,
      "outputs": []
    },
    {
      "cell_type": "markdown",
      "source": [
        "*Note: The df.apply() function applies a given function to each row or column of the DataFrame. In this case we pass in np.sqrt to get the square root of each value.*\n",
        "\n",
        "Now let's look at a log transformation:"
      ],
      "metadata": {
        "id": "vKXVtdu2Dyv1"
      }
    },
    {
      "cell_type": "code",
      "source": [
        "log_transformed = (skewed+1).apply(np.log)   # Get the log of the data\n",
        "\n",
        "log_transformed.hist(figsize = (8,8),          # Plot histogram\n",
        "                 bins=50);"
      ],
      "metadata": {
        "trusted": true,
        "id": "mY9QIwoWDyv1"
      },
      "execution_count": null,
      "outputs": []
    },
    {
      "cell_type": "markdown",
      "source": [
        "*Note: Adding 1 before taking the log ensures we don't end up with negative values.*\n",
        "\n",
        "Both the sqrt() and log() transforms reduced the skew of the data. It's still not quite normally distributed, but the amount of extreme data in the tails has been reduced to the point where we might not be so worried about it having a large influence on our results."
      ],
      "metadata": {
        "id": "iUYc8iN7Dyv1"
      }
    },
    {
      "cell_type": "markdown",
      "source": [
        "## Highly Correlated Variables"
      ],
      "metadata": {
        "id": "TP1C4ZdyDyv2"
      }
    },
    {
      "cell_type": "markdown",
      "source": [
        "In predictive modeling, each variable you use to construct a model would ideally represent some unique feature of the data. In other words, you want each variable to tell you something different. In reality, variables often exhibit collinearity--a strong correlation or tendency to move together, typically due to some underlying similarity or common influencing factor. Variables with strong correlations can interfere with one another when performing modeling and muddy results.\n",
        "\n",
        "You can check the pairwise correlations between numeric variables using the df.corr() function:"
      ],
      "metadata": {
        "id": "k5eHtqjzDyv2"
      }
    },
    {
      "cell_type": "code",
      "source": [
        "mtcars.iloc[:,0:6].corr()   # Check the pairwise correlations of 6 variables"
      ],
      "metadata": {
        "trusted": true,
        "id": "Pftm567TDyv2"
      },
      "execution_count": null,
      "outputs": []
    },
    {
      "cell_type": "markdown",
      "source": [
        "A positive correlation implies that when one variable goes up the other tends to go up as well. Negative correlations indicate an inverse relationship: when one variable goes up the other tends to go down. A correlation near zero indicates low correlation while a correlation near -1 or 1 indicates a large negative or positive correlation.\n",
        "\n",
        "Inspecting the data table, we see that the number of cylinders a car has (cyl) and its weight (wt) have fairly strong negative correlations to gas mileage (mpg.). This indicates that heavier cars and cars with more cylinders tend to get lower gas mileage.\n",
        "\n",
        "A scatter plot matrix can be a helpful visual aide for inspecting collinearity. We can create one with the pandas scatter_matrix() function located in the tools.plotting pandas folder:"
      ],
      "metadata": {
        "id": "gYw6vz68Dyv2"
      }
    },
    {
      "cell_type": "code",
      "source": [
        "from pandas.tools.plotting import scatter_matrix\n",
        "\n",
        "scatter_matrix(mtcars.iloc[:,0:6], # Make a scatter matrix of 6 columns\n",
        "               figsize=(10, 10),   # Set plot size\n",
        "               diagonal='kde');    # Show distribution estimates on diagonal"
      ],
      "metadata": {
        "trusted": true,
        "id": "28mGkxMFDyv2"
      },
      "execution_count": null,
      "outputs": []
    },
    {
      "cell_type": "markdown",
      "source": [
        "A scatter plot matrix creates pairwise scatter plots that let you visually inspect the relationships between pairs of variables. It can also help identify oddities in the data, such as variables like cyl that only take on values in a small discrete set.\n",
        "\n",
        "If you find highly correlated variables, there are a few things you can do including:\n",
        "\n",
        "1. Leave them be\n",
        "2. Remove one or more variables\n",
        "3. Combine them in some way\n",
        "\n",
        "Reducing the number of variables under consideration, either by removing some or by combining them some way is known as \"dimensionality reduction.\" How you choose to handle correlated variables is ultimately a subjective decision that should be informed by your goal."
      ],
      "metadata": {
        "id": "ciJrkG_xDyv2"
      }
    },
    {
      "cell_type": "markdown",
      "source": [
        "## Imputing with Sklearn"
      ],
      "metadata": {
        "id": "XkP1ke-sDyv3"
      }
    },
    {
      "cell_type": "markdown",
      "source": [
        "In the lesson on initial data exploration, we explored Titanic survivor data and found that several passengers had missing listed for age. Missing values in numeric data are troublesome because you can't simply treat them as a category: you have to either remove them or fill them in.\n",
        "\n",
        "Imputation describes filling in missing data with estimates based on the rest of the data set. When working with the titanic data set, we set all the missing Age values to the median age for the data set. Other simple imputation methods include setting missing values to the mean or most common value (mode.). The scikit-learn offers an Imupter tool that can automatically carry out these imputations for us. Let's start by loading the Imputer and introducing some missing values into the mpg data:"
      ],
      "metadata": {
        "id": "BksxhXy6Dyv3"
      }
    },
    {
      "cell_type": "code",
      "source": [
        "from sklearn.preprocessing import Imputer\n",
        "\n",
        "# The following line sets a few mpg values to None\n",
        "mtcars[\"mpg\"] = np.where(mtcars[\"mpg\"]>22, None, mtcars[\"mpg\"])\n",
        "\n",
        "mtcars[\"mpg\"]       # Confirm that missing values were added"
      ],
      "metadata": {
        "trusted": true,
        "id": "jZWDVxhoDyv3"
      },
      "execution_count": null,
      "outputs": []
    },
    {
      "cell_type": "markdown",
      "source": [
        "Now let's use the Imputer fill in missing values based on the mean:"
      ],
      "metadata": {
        "id": "JSj7eB4EDyv3"
      }
    },
    {
      "cell_type": "code",
      "source": [
        "imp = Imputer(missing_values='NaN',  # Create imputation model\n",
        "              strategy='mean',       # Use mean imputation\n",
        "              axis=0)                # Impute by column\n",
        "\n",
        "imputed_cars = imp.fit_transform(mtcars)   # Use imputation model to get values\n",
        "\n",
        "imputed_cars = pd.DataFrame(imputed_cars,  # Remake DataFrame with new values\n",
        "                           index=mtcars.index,\n",
        "                           columns = mtcars.columns)\n",
        "\n",
        "imputed_cars.head(10)"
      ],
      "metadata": {
        "trusted": true,
        "id": "ufZ7Iu90Dyv4"
      },
      "execution_count": null,
      "outputs": []
    },
    {
      "cell_type": "markdown",
      "source": [
        "Imputer supports the \"mean\", \"median\" and \"most_frequent\" (mode) as strategies for imputation.\n",
        "\n",
        "Other imputation methods include filling in values based on \"similar\" or \"neighboring\" records (K-nearest-neighbors imputation) and filling in values based on regression models. Using predictive models to fill in missing values adds an extra layer of complexity to an analysis and can significantly increase processing time, although it may result in better predictive performance. We'll revisit predictive modeling in a future lesson. In the example above, we created missing values by setting the largest mpg values to \"NaN\". In this case, it would be difficult to find a good estimate for the missing mpg values, since all the missing values were greater than any of the mpg values we had in hand."
      ],
      "metadata": {
        "id": "NxIVbCfEDyv4"
      }
    },
    {
      "cell_type": "markdown",
      "source": [
        "## Wrap Up"
      ],
      "metadata": {
        "id": "VEh5NFatDyv4"
      }
    },
    {
      "cell_type": "markdown",
      "source": [
        "In the past two lessons, we covered a variety of methods for preparing text data and numeric data. The majority of data you encounter will likely fall in one of these two categories, but there is one other type of data that appears with enough frequency that you will have to deal with it sooner or later: dates."
      ],
      "metadata": {
        "id": "kdLsQ4n_Dyv4"
      }
    },
    {
      "cell_type": "markdown",
      "source": [],
      "metadata": {
        "id": "BOv3xlgEDyv_"
      }
    }
  ]
}